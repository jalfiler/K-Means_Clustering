{
 "cells": [
  {
   "cell_type": "markdown",
   "id": "b042617e-63e9-444b-b85c-bca978a9a70c",
   "metadata": {},
   "source": [
    "# TW8: Quiz"
   ]
  },
  {
   "cell_type": "markdown",
   "id": "27cf627f-48f9-4759-b89b-d6e4867c30c3",
   "metadata": {},
   "source": [
    "# Question 1."
   ]
  },
  {
   "cell_type": "code",
   "execution_count": 1,
   "id": "8f847b62-ca72-4092-8832-c583ba520a35",
   "metadata": {},
   "outputs": [],
   "source": [
    "class Color(object):\n",
    "    \"\"\"\n",
    "    Adpated from Guttag Fig. 23.2, Example class\n",
    "    This one is all about 24-bit RGB colors.\n",
    "    Stores an RGB color and and optional name, knows about distance\n",
    "    and has a static method to compute a centroid.\n",
    "    \"\"\"\n",
    "\n",
    "    @staticmethod\n",
    "    def centroid(colors):\n",
    "        \"\"\"\n",
    "        Compute a centroid for a list of Color objects.\n",
    "        :param colors: list of Colors\n",
    "        :return:       the average Color of colors\n",
    "        >>> Colors.centroid([Color(0), Color(0xffffff)])\n",
    "        #0x7f7f7f: 0x0x7f7f7f\n",
    "        \"\"\"\n",
    "        rgbs = [color.rgb for color in colors]\n",
    "        center = rgb_center(rgbs)\n",
    "        return Color(center)\n",
    "\n",
    "    def __init__(self, rgb, name=None):\n",
    "        if name is None:\n",
    "            name = '#{:06x}'.format(rgb)\n",
    "        self.name = name\n",
    "        self.rgb = rgb\n",
    "\n",
    "    def distance(self, other):\n",
    "        return rgb_distance(self.rgb, other.rgb)\n",
    "\n",
    "    def __str__(self):\n",
    "        return '{}: 0x{:06x}'.format(self.name, self.rgb)\n",
    "    \n",
    "    def __repr__(self):\n",
    "        return \"Color(0x{:06x}, '{}')\".format(self.rgb, self.name)"
   ]
  },
  {
   "cell_type": "markdown",
   "id": "dee35eb2-abf6-4c3c-b354-500d7649e898",
   "metadata": {},
   "source": [
    "PQ7"
   ]
  },
  {
   "cell_type": "code",
   "execution_count": 2,
   "id": "93c1a6a9-9072-4f11-8ccc-09606d6a7987",
   "metadata": {},
   "outputs": [],
   "source": [
    "def rgb_distance(color1, color2):\n",
    "    \"\"\"\n",
    "    Calculate the distance between two colors in the RGB color space.\n",
    "    :param color1: RGB color value 1\n",
    "    :param color2: RGB color value 2\n",
    "    :return: distance between color1 and color2\n",
    "\n",
    "    >>> color1 = 0x8a3324\n",
    "    >>> color2 = 0x0000FF\n",
    "    >>> distance = rgb_distance(color1, color2)\n",
    "    >>> print(f\"Distance between color1 and color2: {distance:.2f}\")\n",
    "    Distance between color1 and color2: 263.83\n",
    "    \"\"\"\n",
    "    red1 = color1 >> 16 & 0xff\n",
    "    green1 = color1 >> 8 & 0xff\n",
    "    blue1 = color1 & 0xff\n",
    "\n",
    "    red2 = color2 >> 16 & 0xff\n",
    "    green2 = color2 >> 8 & 0xff\n",
    "    blue2 = color2 & 0xff\n",
    "\n",
    "    distance = ((red1 - red2) ** 2 + (green1 - green2) ** 2 + (blue1 - blue2) ** 2) ** 0.5\n",
    "    return distance\n",
    "\n",
    "def rgb_center(colors):\n",
    "    \"\"\"\n",
    "    Calculate the average color of a sequence of colors in the RGB color space.\n",
    "    :param colors: sequence of RGB color values\n",
    "    :return: average color\n",
    "\n",
    "    >>> colors = [0xFF0000, 0x00FF00, 0x0000FF]\n",
    "    >>> average_color = rgb_center(colors)\n",
    "    >>> print(f\"Average color: {average_color:#06x}\")\n",
    "    Average color: 0x555555\n",
    "    \"\"\"\n",
    "    total_red = 0\n",
    "    total_green = 0\n",
    "    total_blue = 0\n",
    "\n",
    "    for color in colors:\n",
    "        total_red += color >> 16 & 0xff\n",
    "        total_green += color >> 8 & 0xff\n",
    "        total_blue += color & 0xff\n",
    "\n",
    "    average_red = total_red // len(colors)\n",
    "    average_green = total_green // len(colors)\n",
    "    average_blue = total_blue // len(colors)\n",
    "\n",
    "    average_color = average_red << 16 | average_green << 8 | average_blue\n",
    "    return average_color"
   ]
  },
  {
   "cell_type": "markdown",
   "id": "7752d230-26b6-44a6-a3b8-c25a5bf0fa50",
   "metadata": {},
   "source": [
    "TEST"
   ]
  },
  {
   "cell_type": "code",
   "execution_count": 4,
   "id": "7b851d5d-fb4a-46c6-a372-b1d1ecd298ff",
   "metadata": {},
   "outputs": [
    {
     "data": {
      "text/plain": [
       "Color(0x959989, '#959989')"
      ]
     },
     "execution_count": 4,
     "metadata": {},
     "output_type": "execute_result"
    }
   ],
   "source": [
    "colors = [Color(0x020202), Color(0x998877), Color(0xbadbad), Color(0xffffff, 'white')]\n",
    "Color.centroid(colors)"
   ]
  },
  {
   "cell_type": "markdown",
   "id": "7d2aa170-db49-41b7-b9d9-8333af623445",
   "metadata": {},
   "source": [
    "# Question 3."
   ]
  },
  {
   "cell_type": "code",
   "execution_count": 12,
   "id": "a265b7d1-9841-44f8-8885-fb247d25b32d",
   "metadata": {},
   "outputs": [],
   "source": [
    "import pandas as pd\n",
    "\n",
    "def get_data(filename):\n",
    "    \"\"\"\n",
    "    Read a CSV file containing color data and return a list of Color objects.\n",
    "    \n",
    "    :param filename: the name of the CSV file to read\n",
    "    :return: a list of Color objects\n",
    "\n",
    "    >>> get_data('X11colors.csv')[21]\n",
    "    Color(0x00008b, 'Dark Blue')\n",
    "    \"\"\"\n",
    "    data = pd.read_csv(filename)\n",
    "    colors = []\n",
    "    for _, row in data.iterrows():\n",
    "        hex_value = int(row['Hex'][1:], 16)\n",
    "        color = Color(hex_value, row['Name'])\n",
    "        colors.append(color)\n",
    "    return colors"
   ]
  },
  {
   "cell_type": "code",
   "execution_count": 15,
   "id": "5ba5044d-4542-46a7-9ef4-37ae1a866e6c",
   "metadata": {},
   "outputs": [
    {
     "data": {
      "text/plain": [
       "Color(0x00008b, 'Dark Blue')"
      ]
     },
     "execution_count": 15,
     "metadata": {},
     "output_type": "execute_result"
    }
   ],
   "source": [
    "get_data('X11colors.csv')[21]"
   ]
  },
  {
   "cell_type": "markdown",
   "id": "375bf3d5-0d3b-4144-a240-f0e7f6a53628",
   "metadata": {},
   "source": [
    "# Question 4"
   ]
  },
  {
   "cell_type": "code",
   "execution_count": 20,
   "id": "4c795918-22bc-479d-99c6-bf323036cefe",
   "metadata": {},
   "outputs": [
    {
     "name": "stdout",
     "output_type": "stream",
     "text": [
      "<table><tbody>\n",
      "<tr style=\"background:#020202\">\n",
      "<td>#020202</td><td>0x020202</td>\n",
      "</tr>\n",
      "<tr style=\"background:#998877\">\n",
      "<td>#998877</td><td>0x998877</td>\n",
      "</tr>\n",
      "<tr style=\"background:#badbad\">\n",
      "<td>#badbad</td><td>0xbadbad</td>\n",
      "</tr>\n",
      "<tr style=\"background:#ffffff\">\n",
      "<td>white</td><td>0xffffff</td>\n",
      "</tr>\n",
      "</tbody></table>\n"
     ]
    }
   ],
   "source": [
    "class Cluster(object):\n",
    "    \"\"\"\n",
    "    Adapted from Guttag Fig. 23.3, except this one is a Cluster of Colors.\n",
    "    \"\"\"\n",
    "\n",
    "    def __init__(self, colors):\n",
    "        self.colors = colors\n",
    "        self.centroid = Color.centroid(self.colors)\n",
    "\n",
    "    def update(self, colors):\n",
    "        \"\"\"Assume examples is a non-empty list of Colors\n",
    "           Replace examples; return amount centroid has changed\"\"\"\n",
    "        old_centroid = self.centroid\n",
    "        self.colors = colors\n",
    "        self.centroid = Color.centroid(self.colors)\n",
    "        return old_centroid.distance(self.centroid)\n",
    "\n",
    "    def get_centroid(self):\n",
    "        return self.centroid\n",
    "\n",
    "    def to_html(self):\n",
    "        \"\"\"Produce an html table with the cluster's colors.\"\"\"\n",
    "        color_map = {color.rgb: color for color in self.colors}\n",
    "        colors = [color_map[color] for color in sorted(color_map)]\n",
    "        html = ['<table><tbody>']\n",
    "        for color in self.colors:\n",
    "            html.append('<tr style=\"background:#{:06x}\">'.format(color.rgb))\n",
    "            html.append('<td>{}</td><td>0x{:06x}</td>'.format(color.name, color.rgb))\n",
    "            html.append('</tr>')\n",
    "        html.append('</tbody></table>')\n",
    "        return '\\n'.join(html)\n",
    "\n",
    "    def __str__(self):\n",
    "        color_map = {color.rgb: color for color in self.colors}\n",
    "        colors = [str(color_map[color]) for color in sorted(color_map)]\n",
    "        return 'Cluster with centroid {} contains:\\n{}'.format(self.centroid, ', '.join(colors))\n",
    "\n",
    "\n",
    "# Test the Cluster class\n",
    "colors = [Color(0x020202), Color(0x998877), Color(0xbadbad), Color(0xffffff, 'white')]\n",
    "cluster = Cluster(colors)\n",
    "html_table = cluster.to_html()\n",
    "print(html_table)"
   ]
  },
  {
   "cell_type": "markdown",
   "id": "adad09a9-6203-4c81-a019-081928b7b9af",
   "metadata": {},
   "source": [
    "<table><tbody>\n",
    "<tr style=\"background:#020202\">\n",
    "<td>#020202</td><td>0x020202</td>\n",
    "</tr>\n",
    "<tr style=\"background:#998877\">\n",
    "<td>#998877</td><td>0x998877</td>\n",
    "</tr>\n",
    "<tr style=\"background:#badbad\">\n",
    "<td>#badbad</td><td>0xbadbad</td>\n",
    "</tr>\n",
    "<tr style=\"background:#ffffff\">\n",
    "<td>white</td><td>0xffffff</td>\n",
    "</tr>\n",
    "</tbody></table>"
   ]
  },
  {
   "cell_type": "markdown",
   "id": "214ece69-69d6-4862-9519-54f7cd4cbe53",
   "metadata": {},
   "source": [
    "<table><tbody>\n",
    "<tr style=\"background:#020202; color:#ffffff\">\n",
    "<td>#020202</td><td>0x020202</td>\n",
    "</tr>\n",
    "<tr style=\"background:#998877; color:#ffffff\">\n",
    "<td>#998877</td><td>0x998877</td>\n",
    "</tr>\n",
    "<tr style=\"background:#badbad; color:#ffffff\">\n",
    "<td>#badbad</td><td>0xbadbad</td>\n",
    "</tr>\n",
    "<tr style=\"background:#ffffff; color:#000000\">\n",
    "<td>white</td><td>0xffffff</td>\n",
    "</tr>\n",
    "</tbody></table>"
   ]
  },
  {
   "cell_type": "markdown",
   "id": "27f6dfd4-ebe0-49e7-bcef-2f73cf3c08f3",
   "metadata": {},
   "source": [
    "    <table><tbody>\n",
    "    <tr style=\"background:#020202; color:#ffffff\">\n",
    "    <td>#020202</td><td>0x020202</td>\n",
    "    </tr>\n",
    "    <tr style=\"background:#998877; color:#ffffff\">\n",
    "    <td>#998877</td><td>0x998877</td>\n",
    "    </tr>\n",
    "    <tr style=\"background:#badbad; color:#ffffff\">\n",
    "    <td>#badbad</td><td>0xbadbad</td>\n",
    "    </tr>\n",
    "    <tr style=\"background:#ffffff; color:#000000\">\n",
    "    <td>white</td><td>0xffffff</td>\n",
    "    </tr>\n",
    "    </tbody></table>"
   ]
  },
  {
   "cell_type": "markdown",
   "id": "06727dbd-81ca-452b-870f-eba24bb8320f",
   "metadata": {},
   "source": [
    "HTML code worked on Q4 via canvas, its just not showing here."
   ]
  },
  {
   "cell_type": "markdown",
   "id": "4729e1d3-7192-4f5e-9fc5-ab09f8f3fcd1",
   "metadata": {},
   "source": [
    "# Question 5. "
   ]
  },
  {
   "cell_type": "markdown",
   "id": "92516fb8-4de7-46dd-a6cf-ad75f9ca3586",
   "metadata": {},
   "source": [
    "TEST"
   ]
  },
  {
   "cell_type": "code",
   "execution_count": 25,
   "id": "5cb4b903-2fe5-4a8b-a6b3-0ac6594c0666",
   "metadata": {},
   "outputs": [],
   "source": [
    "def kmeans(examples, k, verbose=False):\n",
    "    \"\"\"\n",
    "    Adapted from Guttag, Figure 23.5\n",
    "    :param examples: list of colors\n",
    "    :param k: number of clusters to gather\n",
    "    :param verbose: print out the story as we go if True\n",
    "    :return: clusters of colors\n",
    "    \"\"\"\n",
    "    initialCentroids = random.sample(examples, k)\n",
    "    clusters = []\n",
    "    for e in initialCentroids:\n",
    "        clusters.append(Cluster([e]))\n",
    "\n",
    "    # Iterate until centroids do not change\n",
    "    converged = False\n",
    "    numIterations = 0\n",
    "    while not converged:\n",
    "        numIterations += 1\n",
    "        # Create a list containing k distinct empty lists\n",
    "        newClusters = [[] for _ in range(k)]\n",
    "\n",
    "        # Associate each example with closest centroid\n",
    "        for e in examples:\n",
    "            # Find the centroid closest to e\n",
    "            smallestDistance = e.distance(clusters[0].get_centroid())\n",
    "            index = 0\n",
    "            for i in range(1, k):\n",
    "                distance = e.distance(clusters[i].get_centroid())\n",
    "                if distance < smallestDistance:\n",
    "                    smallestDistance = distance\n",
    "                    index = i\n",
    "            # Add e to the list of examples for the appropriate cluster\n",
    "            newClusters[index].append(e)\n",
    "\n",
    "        for c in newClusters:  # Avoid having empty clusters\n",
    "            if len(c) == 0:\n",
    "                raise ValueError('Empty Cluster')\n",
    "\n",
    "        # Update each cluster; check if a centroid has changed\n",
    "        converged = True\n",
    "        for i in range(k):\n",
    "            if clusters[i].update(newClusters[i]) > 0.0:\n",
    "                converged = False\n",
    "        if verbose:\n",
    "            print('Iteration #' + str(numIterations))\n",
    "            for c in clusters:\n",
    "                print(c)\n",
    "            print('')  # add blank line\n",
    "    return clusters"
   ]
  },
  {
   "cell_type": "code",
   "execution_count": 26,
   "id": "bb5097fb-6d3d-43a1-a9af-a31f05ef5545",
   "metadata": {},
   "outputs": [
    {
     "name": "stdout",
     "output_type": "stream",
     "text": [
      "Iteration #1\n",
      "Cluster with centroid #e3d2b4: 0xe3d2b4 contains:\n",
      "Aquamarine: 0x7fffd4, Dark Sea Green: 0x8fbc8f, Light Green: 0x90ee90, Pale Green: 0x98fb98, Yellow Green: 0x9acd32, Dark Gray: 0xa9a9a9, Light Blue: 0xadd8e6, Green Yellow: 0xadff2f, Pale Turquoise: 0xafeeee, Light Steel Blue: 0xb0c4de, Powder Blue: 0xb0e0e6, Rosy Brown: 0xbc8f8f, Dark Khaki: 0xbdb76b, Gray: 0xbebebe, Silver: 0xc0c0c0, Peru: 0xcd853f, Tan: 0xd2b48c, Light Gray: 0xd3d3d3, Thistle: 0xd8bfd8, Goldenrod: 0xdaa520, Pale Violet Red: 0xdb7093, Gainsboro: 0xdcdcdc, Plum: 0xdda0dd, Burlywood: 0xdeb887, Light Cyan: 0xe0ffff, Lavender: 0xe6e6fa, Dark Salmon: 0xe9967a, Violet: 0xee82ee, Pale Goldenrod: 0xeee8aa, Light Coral: 0xf08080, Khaki: 0xf0e68c, Alice Blue: 0xf0f8ff, Honeydew: 0xf0fff0, Azure: 0xf0ffff, Sandy Brown: 0xf4a460, Wheat: 0xf5deb3, Beige: 0xf5f5dc, White Smoke: 0xf5f5f5, Mint Cream: 0xf5fffa, Ghost White: 0xf8f8ff, Salmon: 0xfa8072, Antique White: 0xfaebd7, Linen: 0xfaf0e6, Light Goldenrod: 0xfafad2, Old Lace: 0xfdf5e6, Hot Pink: 0xff69b4, Coral: 0xff7f50, Light Salmon: 0xffa07a, Orange: 0xffa500, Light Pink: 0xffb6c1, Pink: 0xffc0cb, Gold: 0xffd700, Peach Puff: 0xffdab9, Navajo White: 0xffdead, Moccasin: 0xffe4b5, Bisque: 0xffe4c4, Misty Rose: 0xffe4e1, Blanched Almond: 0xffebcd, Papaya Whip: 0xffefd5, Lavender Blush: 0xfff0f5, Seashell: 0xfff5ee, Cornsilk: 0xfff8dc, Lemon Chiffon: 0xfffacd, Floral White: 0xfffaf0, Snow: 0xfffafa, Yellow: 0xffff00, Light Yellow: 0xffffe0, Ivory: 0xfffff0, White: 0xffffff\n",
      "Cluster with centroid #37793c: 0x37793c contains:\n",
      "Black: 0x000000, Navy Blue: 0x000080, Dark Blue: 0x00008b, Dark Green: 0x006400, Web Green: 0x008000, Lime: 0x00ff00, Midnight Blue: 0x191970, Forest Green: 0x228b22, Sea Green: 0x2e8b57, Dark Slate Gray: 0x2f4f4f, Lime Green: 0x32cd32, Medium Sea Green: 0x3cb371, Dark Slate Blue: 0x483d8b, Indigo: 0x4b0082, Dark Olive Green: 0x556b2f, Dim Gray: 0x696969, Olive Drab: 0x6b8e23, Lawn Green: 0x7cfc00, Chartreuse: 0x7fff00, Olive: 0x808000, Web Gray: 0x808080\n",
      "Cluster with centroid #8056d4: 0x8056d4 contains:\n",
      "Medium Blue: 0x0000cd, Blue: 0x0000ff, Royal Blue: 0x4169e1, Steel Blue: 0x4682b4, Cadet Blue: 0x5f9ea0, Cornflower Blue: 0x6495ed, Rebecca Purple: 0x663399, Slate Blue: 0x6a5acd, Slate Gray: 0x708090, Light Slate Gray: 0x778899, Medium Slate Blue: 0x7b68ee, Sky Blue: 0x87ceeb, Light Sky Blue: 0x87cefa, Blue Violet: 0x8a2be2, Medium Purple: 0x9370db, Dark Violet: 0x9400d3, Dark Orchid: 0x9932cc, Purple: 0xa020f0, Medium Orchid: 0xba55d3, Orchid: 0xda70d6, Magenta: 0xff00ff\n",
      "Cluster with centroid #bf3337: 0xbf3337 contains:\n",
      "Web Maroon: 0x800000, Web Purple: 0x800080, Dark Red: 0x8b0000, Dark Magenta: 0x8b008b, Saddle Brown: 0x8b4513, Sienna: 0xa0522d, Brown: 0xa52a2a, Maroon: 0xb03060, Firebrick: 0xb22222, Dark Goldenrod: 0xb8860b, Medium Violet Red: 0xc71585, Indian Red: 0xcd5c5c, Chocolate: 0xd2691e, Crimson: 0xdc143c, Red: 0xff0000, Deep Pink: 0xff1493, Orange Red: 0xff4500, Tomato: 0xff6347, Dark Orange: 0xff8c00\n",
      "Cluster with centroid #17cbc2: 0x17cbc2 contains:\n",
      "Teal: 0x008080, Dark Cyan: 0x008b8b, Deep Sky Blue: 0x00bfff, Dark Turquoise: 0x00ced1, Medium Spring Green: 0x00fa9a, Spring Green: 0x00ff7f, Cyan: 0x00ffff, Dodger Blue: 0x1e90ff, Light Sea Green: 0x20b2aa, Turquoise: 0x40e0d0, Medium Turquoise: 0x48d1cc, Medium Aquamarine: 0x66cdaa\n",
      "\n",
      "Iteration #2\n",
      "Cluster with centroid #e1d6c0: 0xe1d6c0 contains:\n",
      "Aquamarine: 0x7fffd4, Sky Blue: 0x87ceeb, Light Sky Blue: 0x87cefa, Dark Sea Green: 0x8fbc8f, Light Green: 0x90ee90, Pale Green: 0x98fb98, Dark Gray: 0xa9a9a9, Light Blue: 0xadd8e6, Green Yellow: 0xadff2f, Pale Turquoise: 0xafeeee, Light Steel Blue: 0xb0c4de, Powder Blue: 0xb0e0e6, Rosy Brown: 0xbc8f8f, Dark Khaki: 0xbdb76b, Gray: 0xbebebe, Silver: 0xc0c0c0, Tan: 0xd2b48c, Light Gray: 0xd3d3d3, Thistle: 0xd8bfd8, Pale Violet Red: 0xdb7093, Gainsboro: 0xdcdcdc, Plum: 0xdda0dd, Burlywood: 0xdeb887, Light Cyan: 0xe0ffff, Lavender: 0xe6e6fa, Dark Salmon: 0xe9967a, Violet: 0xee82ee, Pale Goldenrod: 0xeee8aa, Light Coral: 0xf08080, Khaki: 0xf0e68c, Alice Blue: 0xf0f8ff, Honeydew: 0xf0fff0, Azure: 0xf0ffff, Sandy Brown: 0xf4a460, Wheat: 0xf5deb3, Beige: 0xf5f5dc, White Smoke: 0xf5f5f5, Mint Cream: 0xf5fffa, Ghost White: 0xf8f8ff, Salmon: 0xfa8072, Antique White: 0xfaebd7, Linen: 0xfaf0e6, Light Goldenrod: 0xfafad2, Old Lace: 0xfdf5e6, Hot Pink: 0xff69b4, Light Salmon: 0xffa07a, Light Pink: 0xffb6c1, Pink: 0xffc0cb, Gold: 0xffd700, Peach Puff: 0xffdab9, Navajo White: 0xffdead, Moccasin: 0xffe4b5, Bisque: 0xffe4c4, Misty Rose: 0xffe4e1, Blanched Almond: 0xffebcd, Papaya Whip: 0xffefd5, Lavender Blush: 0xfff0f5, Seashell: 0xfff5ee, Cornsilk: 0xfff8dc, Lemon Chiffon: 0xfffacd, Floral White: 0xfffaf0, Snow: 0xfffafa, Yellow: 0xffff00, Light Yellow: 0xffffe0, Ivory: 0xfffff0, White: 0xffffff\n",
      "Cluster with centroid #348634: 0x348634 contains:\n",
      "Black: 0x000000, Navy Blue: 0x000080, Dark Blue: 0x00008b, Dark Green: 0x006400, Web Green: 0x008000, Teal: 0x008080, Lime: 0x00ff00, Midnight Blue: 0x191970, Forest Green: 0x228b22, Sea Green: 0x2e8b57, Dark Slate Gray: 0x2f4f4f, Lime Green: 0x32cd32, Medium Sea Green: 0x3cb371, Dark Olive Green: 0x556b2f, Dim Gray: 0x696969, Olive Drab: 0x6b8e23, Lawn Green: 0x7cfc00, Chartreuse: 0x7fff00, Olive: 0x808000, Yellow Green: 0x9acd32\n",
      "Cluster with centroid #7c44c9: 0x7c44c9 contains:\n",
      "Medium Blue: 0x0000cd, Blue: 0x0000ff, Royal Blue: 0x4169e1, Steel Blue: 0x4682b4, Dark Slate Blue: 0x483d8b, Indigo: 0x4b0082, Cornflower Blue: 0x6495ed, Rebecca Purple: 0x663399, Slate Blue: 0x6a5acd, Slate Gray: 0x708090, Light Slate Gray: 0x778899, Medium Slate Blue: 0x7b68ee, Web Gray: 0x808080, Blue Violet: 0x8a2be2, Medium Purple: 0x9370db, Dark Violet: 0x9400d3, Dark Orchid: 0x9932cc, Purple: 0xa020f0, Medium Orchid: 0xba55d3, Orchid: 0xda70d6, Magenta: 0xff00ff\n",
      "Cluster with centroid #c74435: 0xc74435 contains:\n",
      "Web Maroon: 0x800000, Web Purple: 0x800080, Dark Red: 0x8b0000, Dark Magenta: 0x8b008b, Saddle Brown: 0x8b4513, Sienna: 0xa0522d, Brown: 0xa52a2a, Maroon: 0xb03060, Firebrick: 0xb22222, Dark Goldenrod: 0xb8860b, Medium Violet Red: 0xc71585, Indian Red: 0xcd5c5c, Peru: 0xcd853f, Chocolate: 0xd2691e, Goldenrod: 0xdaa520, Crimson: 0xdc143c, Red: 0xff0000, Deep Pink: 0xff1493, Orange Red: 0xff4500, Tomato: 0xff6347, Coral: 0xff7f50, Dark Orange: 0xff8c00, Orange: 0xffa500\n",
      "Cluster with centroid #1ecdc5: 0x1ecdc5 contains:\n",
      "Dark Cyan: 0x008b8b, Deep Sky Blue: 0x00bfff, Dark Turquoise: 0x00ced1, Medium Spring Green: 0x00fa9a, Spring Green: 0x00ff7f, Cyan: 0x00ffff, Dodger Blue: 0x1e90ff, Light Sea Green: 0x20b2aa, Turquoise: 0x40e0d0, Medium Turquoise: 0x48d1cc, Cadet Blue: 0x5f9ea0, Medium Aquamarine: 0x66cdaa\n",
      "\n",
      "Iteration #3\n",
      "Cluster with centroid #dfd9c6: 0xdfd9c6 contains:\n",
      "Aquamarine: 0x7fffd4, Sky Blue: 0x87ceeb, Light Sky Blue: 0x87cefa, Dark Sea Green: 0x8fbc8f, Light Green: 0x90ee90, Pale Green: 0x98fb98, Dark Gray: 0xa9a9a9, Light Blue: 0xadd8e6, Green Yellow: 0xadff2f, Pale Turquoise: 0xafeeee, Light Steel Blue: 0xb0c4de, Powder Blue: 0xb0e0e6, Rosy Brown: 0xbc8f8f, Dark Khaki: 0xbdb76b, Gray: 0xbebebe, Silver: 0xc0c0c0, Tan: 0xd2b48c, Light Gray: 0xd3d3d3, Thistle: 0xd8bfd8, Orchid: 0xda70d6, Gainsboro: 0xdcdcdc, Plum: 0xdda0dd, Burlywood: 0xdeb887, Light Cyan: 0xe0ffff, Lavender: 0xe6e6fa, Dark Salmon: 0xe9967a, Violet: 0xee82ee, Pale Goldenrod: 0xeee8aa, Khaki: 0xf0e68c, Alice Blue: 0xf0f8ff, Honeydew: 0xf0fff0, Azure: 0xf0ffff, Sandy Brown: 0xf4a460, Wheat: 0xf5deb3, Beige: 0xf5f5dc, White Smoke: 0xf5f5f5, Mint Cream: 0xf5fffa, Ghost White: 0xf8f8ff, Antique White: 0xfaebd7, Linen: 0xfaf0e6, Light Goldenrod: 0xfafad2, Old Lace: 0xfdf5e6, Hot Pink: 0xff69b4, Light Salmon: 0xffa07a, Light Pink: 0xffb6c1, Pink: 0xffc0cb, Peach Puff: 0xffdab9, Navajo White: 0xffdead, Moccasin: 0xffe4b5, Bisque: 0xffe4c4, Misty Rose: 0xffe4e1, Blanched Almond: 0xffebcd, Papaya Whip: 0xffefd5, Lavender Blush: 0xfff0f5, Seashell: 0xfff5ee, Cornsilk: 0xfff8dc, Lemon Chiffon: 0xfffacd, Floral White: 0xfffaf0, Snow: 0xfffafa, Yellow: 0xffff00, Light Yellow: 0xffffe0, Ivory: 0xfffff0, White: 0xffffff\n",
      "Cluster with centroid #39942c: 0x39942c contains:\n",
      "Black: 0x000000, Dark Green: 0x006400, Web Green: 0x008000, Teal: 0x008080, Lime: 0x00ff00, Midnight Blue: 0x191970, Forest Green: 0x228b22, Sea Green: 0x2e8b57, Dark Slate Gray: 0x2f4f4f, Lime Green: 0x32cd32, Medium Sea Green: 0x3cb371, Dark Olive Green: 0x556b2f, Dim Gray: 0x696969, Olive Drab: 0x6b8e23, Lawn Green: 0x7cfc00, Chartreuse: 0x7fff00, Olive: 0x808000, Yellow Green: 0x9acd32\n",
      "Cluster with centroid #6f38bd: 0x6f38bd contains:\n",
      "Navy Blue: 0x000080, Dark Blue: 0x00008b, Medium Blue: 0x0000cd, Blue: 0x0000ff, Royal Blue: 0x4169e1, Steel Blue: 0x4682b4, Dark Slate Blue: 0x483d8b, Indigo: 0x4b0082, Cornflower Blue: 0x6495ed, Rebecca Purple: 0x663399, Slate Blue: 0x6a5acd, Slate Gray: 0x708090, Light Slate Gray: 0x778899, Medium Slate Blue: 0x7b68ee, Web Purple: 0x800080, Web Gray: 0x808080, Blue Violet: 0x8a2be2, Dark Magenta: 0x8b008b, Medium Purple: 0x9370db, Dark Violet: 0x9400d3, Dark Orchid: 0x9932cc, Purple: 0xa020f0, Medium Orchid: 0xba55d3, Magenta: 0xff00ff\n",
      "Cluster with centroid #d35535: 0xd35535 contains:\n",
      "Web Maroon: 0x800000, Dark Red: 0x8b0000, Saddle Brown: 0x8b4513, Sienna: 0xa0522d, Brown: 0xa52a2a, Maroon: 0xb03060, Firebrick: 0xb22222, Dark Goldenrod: 0xb8860b, Medium Violet Red: 0xc71585, Indian Red: 0xcd5c5c, Peru: 0xcd853f, Chocolate: 0xd2691e, Goldenrod: 0xdaa520, Pale Violet Red: 0xdb7093, Crimson: 0xdc143c, Light Coral: 0xf08080, Salmon: 0xfa8072, Red: 0xff0000, Deep Pink: 0xff1493, Orange Red: 0xff4500, Tomato: 0xff6347, Coral: 0xff7f50, Dark Orange: 0xff8c00, Orange: 0xffa500, Gold: 0xffd700\n",
      "Cluster with centroid #1ecdc5: 0x1ecdc5 contains:\n",
      "Dark Cyan: 0x008b8b, Deep Sky Blue: 0x00bfff, Dark Turquoise: 0x00ced1, Medium Spring Green: 0x00fa9a, Spring Green: 0x00ff7f, Cyan: 0x00ffff, Dodger Blue: 0x1e90ff, Light Sea Green: 0x20b2aa, Turquoise: 0x40e0d0, Medium Turquoise: 0x48d1cc, Cadet Blue: 0x5f9ea0, Medium Aquamarine: 0x66cdaa\n",
      "\n",
      "Iteration #4\n",
      "Cluster with centroid #dfd9cf: 0xdfd9cf contains:\n",
      "Aquamarine: 0x7fffd4, Sky Blue: 0x87ceeb, Light Sky Blue: 0x87cefa, Dark Sea Green: 0x8fbc8f, Light Green: 0x90ee90, Pale Green: 0x98fb98, Dark Gray: 0xa9a9a9, Light Blue: 0xadd8e6, Pale Turquoise: 0xafeeee, Light Steel Blue: 0xb0c4de, Powder Blue: 0xb0e0e6, Rosy Brown: 0xbc8f8f, Dark Khaki: 0xbdb76b, Gray: 0xbebebe, Silver: 0xc0c0c0, Tan: 0xd2b48c, Light Gray: 0xd3d3d3, Thistle: 0xd8bfd8, Orchid: 0xda70d6, Gainsboro: 0xdcdcdc, Plum: 0xdda0dd, Burlywood: 0xdeb887, Light Cyan: 0xe0ffff, Lavender: 0xe6e6fa, Violet: 0xee82ee, Pale Goldenrod: 0xeee8aa, Khaki: 0xf0e68c, Alice Blue: 0xf0f8ff, Honeydew: 0xf0fff0, Azure: 0xf0ffff, Wheat: 0xf5deb3, Beige: 0xf5f5dc, White Smoke: 0xf5f5f5, Mint Cream: 0xf5fffa, Ghost White: 0xf8f8ff, Antique White: 0xfaebd7, Linen: 0xfaf0e6, Light Goldenrod: 0xfafad2, Old Lace: 0xfdf5e6, Hot Pink: 0xff69b4, Light Salmon: 0xffa07a, Light Pink: 0xffb6c1, Pink: 0xffc0cb, Peach Puff: 0xffdab9, Navajo White: 0xffdead, Moccasin: 0xffe4b5, Bisque: 0xffe4c4, Misty Rose: 0xffe4e1, Blanched Almond: 0xffebcd, Papaya Whip: 0xffefd5, Lavender Blush: 0xfff0f5, Seashell: 0xfff5ee, Cornsilk: 0xfff8dc, Lemon Chiffon: 0xfffacd, Floral White: 0xfffaf0, Snow: 0xfffafa, Light Yellow: 0xffffe0, Ivory: 0xfffff0, White: 0xffffff\n",
      "Cluster with centroid #41a028: 0x41a028 contains:\n",
      "Black: 0x000000, Dark Green: 0x006400, Web Green: 0x008000, Teal: 0x008080, Lime: 0x00ff00, Forest Green: 0x228b22, Sea Green: 0x2e8b57, Dark Slate Gray: 0x2f4f4f, Lime Green: 0x32cd32, Medium Sea Green: 0x3cb371, Dark Olive Green: 0x556b2f, Dim Gray: 0x696969, Olive Drab: 0x6b8e23, Lawn Green: 0x7cfc00, Chartreuse: 0x7fff00, Olive: 0x808000, Yellow Green: 0x9acd32, Green Yellow: 0xadff2f\n",
      "Cluster with centroid #6c33b8: 0x6c33b8 contains:\n",
      "Navy Blue: 0x000080, Dark Blue: 0x00008b, Medium Blue: 0x0000cd, Blue: 0x0000ff, Midnight Blue: 0x191970, Royal Blue: 0x4169e1, Steel Blue: 0x4682b4, Dark Slate Blue: 0x483d8b, Indigo: 0x4b0082, Rebecca Purple: 0x663399, Slate Blue: 0x6a5acd, Slate Gray: 0x708090, Light Slate Gray: 0x778899, Medium Slate Blue: 0x7b68ee, Web Purple: 0x800080, Web Gray: 0x808080, Blue Violet: 0x8a2be2, Dark Magenta: 0x8b008b, Medium Purple: 0x9370db, Dark Violet: 0x9400d3, Dark Orchid: 0x9932cc, Purple: 0xa020f0, Medium Orchid: 0xba55d3, Magenta: 0xff00ff\n",
      "Cluster with centroid #d66137: 0xd66137 contains:\n",
      "Web Maroon: 0x800000, Dark Red: 0x8b0000, Saddle Brown: 0x8b4513, Sienna: 0xa0522d, Brown: 0xa52a2a, Maroon: 0xb03060, Firebrick: 0xb22222, Dark Goldenrod: 0xb8860b, Medium Violet Red: 0xc71585, Indian Red: 0xcd5c5c, Peru: 0xcd853f, Chocolate: 0xd2691e, Goldenrod: 0xdaa520, Pale Violet Red: 0xdb7093, Crimson: 0xdc143c, Dark Salmon: 0xe9967a, Light Coral: 0xf08080, Sandy Brown: 0xf4a460, Salmon: 0xfa8072, Red: 0xff0000, Deep Pink: 0xff1493, Orange Red: 0xff4500, Tomato: 0xff6347, Coral: 0xff7f50, Dark Orange: 0xff8c00, Orange: 0xffa500, Gold: 0xffd700, Yellow: 0xffff00\n",
      "Cluster with centroid #23c9c7: 0x23c9c7 contains:\n",
      "Dark Cyan: 0x008b8b, Deep Sky Blue: 0x00bfff, Dark Turquoise: 0x00ced1, Medium Spring Green: 0x00fa9a, Spring Green: 0x00ff7f, Cyan: 0x00ffff, Dodger Blue: 0x1e90ff, Light Sea Green: 0x20b2aa, Turquoise: 0x40e0d0, Medium Turquoise: 0x48d1cc, Cadet Blue: 0x5f9ea0, Cornflower Blue: 0x6495ed, Medium Aquamarine: 0x66cdaa\n",
      "\n",
      "Iteration #5\n",
      "Cluster with centroid #e0dcd4: 0xe0dcd4 contains:\n",
      "Aquamarine: 0x7fffd4, Sky Blue: 0x87ceeb, Light Sky Blue: 0x87cefa, Dark Sea Green: 0x8fbc8f, Light Green: 0x90ee90, Pale Green: 0x98fb98, Dark Gray: 0xa9a9a9, Light Blue: 0xadd8e6, Pale Turquoise: 0xafeeee, Light Steel Blue: 0xb0c4de, Powder Blue: 0xb0e0e6, Gray: 0xbebebe, Silver: 0xc0c0c0, Tan: 0xd2b48c, Light Gray: 0xd3d3d3, Thistle: 0xd8bfd8, Orchid: 0xda70d6, Gainsboro: 0xdcdcdc, Plum: 0xdda0dd, Burlywood: 0xdeb887, Light Cyan: 0xe0ffff, Lavender: 0xe6e6fa, Violet: 0xee82ee, Pale Goldenrod: 0xeee8aa, Khaki: 0xf0e68c, Alice Blue: 0xf0f8ff, Honeydew: 0xf0fff0, Azure: 0xf0ffff, Wheat: 0xf5deb3, Beige: 0xf5f5dc, White Smoke: 0xf5f5f5, Mint Cream: 0xf5fffa, Ghost White: 0xf8f8ff, Antique White: 0xfaebd7, Linen: 0xfaf0e6, Light Goldenrod: 0xfafad2, Old Lace: 0xfdf5e6, Hot Pink: 0xff69b4, Light Pink: 0xffb6c1, Pink: 0xffc0cb, Peach Puff: 0xffdab9, Navajo White: 0xffdead, Moccasin: 0xffe4b5, Bisque: 0xffe4c4, Misty Rose: 0xffe4e1, Blanched Almond: 0xffebcd, Papaya Whip: 0xffefd5, Lavender Blush: 0xfff0f5, Seashell: 0xfff5ee, Cornsilk: 0xfff8dc, Lemon Chiffon: 0xfffacd, Floral White: 0xfffaf0, Snow: 0xfffafa, Light Yellow: 0xffffe0, Ivory: 0xfffff0, White: 0xffffff\n",
      "Cluster with centroid #44a223: 0x44a223 contains:\n",
      "Black: 0x000000, Dark Green: 0x006400, Web Green: 0x008000, Lime: 0x00ff00, Forest Green: 0x228b22, Sea Green: 0x2e8b57, Dark Slate Gray: 0x2f4f4f, Lime Green: 0x32cd32, Medium Sea Green: 0x3cb371, Dark Olive Green: 0x556b2f, Dim Gray: 0x696969, Olive Drab: 0x6b8e23, Lawn Green: 0x7cfc00, Chartreuse: 0x7fff00, Olive: 0x808000, Yellow Green: 0x9acd32, Green Yellow: 0xadff2f\n",
      "Cluster with centroid #712eb7: 0x712eb7 contains:\n",
      "Navy Blue: 0x000080, Dark Blue: 0x00008b, Medium Blue: 0x0000cd, Blue: 0x0000ff, Midnight Blue: 0x191970, Royal Blue: 0x4169e1, Dark Slate Blue: 0x483d8b, Indigo: 0x4b0082, Rebecca Purple: 0x663399, Slate Blue: 0x6a5acd, Slate Gray: 0x708090, Light Slate Gray: 0x778899, Medium Slate Blue: 0x7b68ee, Web Purple: 0x800080, Web Gray: 0x808080, Blue Violet: 0x8a2be2, Dark Magenta: 0x8b008b, Medium Purple: 0x9370db, Dark Violet: 0x9400d3, Dark Orchid: 0x9932cc, Purple: 0xa020f0, Medium Orchid: 0xba55d3, Medium Violet Red: 0xc71585, Magenta: 0xff00ff\n",
      "Cluster with centroid #d66a3c: 0xd66a3c contains:\n",
      "Web Maroon: 0x800000, Dark Red: 0x8b0000, Saddle Brown: 0x8b4513, Sienna: 0xa0522d, Brown: 0xa52a2a, Maroon: 0xb03060, Firebrick: 0xb22222, Dark Goldenrod: 0xb8860b, Rosy Brown: 0xbc8f8f, Dark Khaki: 0xbdb76b, Indian Red: 0xcd5c5c, Peru: 0xcd853f, Chocolate: 0xd2691e, Goldenrod: 0xdaa520, Pale Violet Red: 0xdb7093, Crimson: 0xdc143c, Dark Salmon: 0xe9967a, Light Coral: 0xf08080, Sandy Brown: 0xf4a460, Salmon: 0xfa8072, Red: 0xff0000, Deep Pink: 0xff1493, Orange Red: 0xff4500, Tomato: 0xff6347, Coral: 0xff7f50, Dark Orange: 0xff8c00, Light Salmon: 0xffa07a, Orange: 0xffa500, Gold: 0xffd700, Yellow: 0xffff00\n",
      "Cluster with centroid #23c0c2: 0x23c0c2 contains:\n",
      "Teal: 0x008080, Dark Cyan: 0x008b8b, Deep Sky Blue: 0x00bfff, Dark Turquoise: 0x00ced1, Medium Spring Green: 0x00fa9a, Spring Green: 0x00ff7f, Cyan: 0x00ffff, Dodger Blue: 0x1e90ff, Light Sea Green: 0x20b2aa, Turquoise: 0x40e0d0, Steel Blue: 0x4682b4, Medium Turquoise: 0x48d1cc, Cadet Blue: 0x5f9ea0, Cornflower Blue: 0x6495ed, Medium Aquamarine: 0x66cdaa\n",
      "\n",
      "Iteration #6\n",
      "Cluster with centroid #e0dcd4: 0xe0dcd4 contains:\n",
      "Aquamarine: 0x7fffd4, Sky Blue: 0x87ceeb, Light Sky Blue: 0x87cefa, Dark Sea Green: 0x8fbc8f, Light Green: 0x90ee90, Pale Green: 0x98fb98, Dark Gray: 0xa9a9a9, Light Blue: 0xadd8e6, Pale Turquoise: 0xafeeee, Light Steel Blue: 0xb0c4de, Powder Blue: 0xb0e0e6, Gray: 0xbebebe, Silver: 0xc0c0c0, Tan: 0xd2b48c, Light Gray: 0xd3d3d3, Thistle: 0xd8bfd8, Orchid: 0xda70d6, Gainsboro: 0xdcdcdc, Plum: 0xdda0dd, Burlywood: 0xdeb887, Light Cyan: 0xe0ffff, Lavender: 0xe6e6fa, Violet: 0xee82ee, Pale Goldenrod: 0xeee8aa, Khaki: 0xf0e68c, Alice Blue: 0xf0f8ff, Honeydew: 0xf0fff0, Azure: 0xf0ffff, Wheat: 0xf5deb3, Beige: 0xf5f5dc, White Smoke: 0xf5f5f5, Mint Cream: 0xf5fffa, Ghost White: 0xf8f8ff, Antique White: 0xfaebd7, Linen: 0xfaf0e6, Light Goldenrod: 0xfafad2, Old Lace: 0xfdf5e6, Hot Pink: 0xff69b4, Light Pink: 0xffb6c1, Pink: 0xffc0cb, Peach Puff: 0xffdab9, Navajo White: 0xffdead, Moccasin: 0xffe4b5, Bisque: 0xffe4c4, Misty Rose: 0xffe4e1, Blanched Almond: 0xffebcd, Papaya Whip: 0xffefd5, Lavender Blush: 0xfff0f5, Seashell: 0xfff5ee, Cornsilk: 0xfff8dc, Lemon Chiffon: 0xfffacd, Floral White: 0xfffaf0, Snow: 0xfffafa, Light Yellow: 0xffffe0, Ivory: 0xfffff0, White: 0xffffff\n",
      "Cluster with centroid #44a223: 0x44a223 contains:\n",
      "Black: 0x000000, Dark Green: 0x006400, Web Green: 0x008000, Lime: 0x00ff00, Forest Green: 0x228b22, Sea Green: 0x2e8b57, Dark Slate Gray: 0x2f4f4f, Lime Green: 0x32cd32, Medium Sea Green: 0x3cb371, Dark Olive Green: 0x556b2f, Dim Gray: 0x696969, Olive Drab: 0x6b8e23, Lawn Green: 0x7cfc00, Chartreuse: 0x7fff00, Olive: 0x808000, Yellow Green: 0x9acd32, Green Yellow: 0xadff2f\n",
      "Cluster with centroid #712eb7: 0x712eb7 contains:\n",
      "Navy Blue: 0x000080, Dark Blue: 0x00008b, Medium Blue: 0x0000cd, Blue: 0x0000ff, Midnight Blue: 0x191970, Royal Blue: 0x4169e1, Dark Slate Blue: 0x483d8b, Indigo: 0x4b0082, Rebecca Purple: 0x663399, Slate Blue: 0x6a5acd, Slate Gray: 0x708090, Light Slate Gray: 0x778899, Medium Slate Blue: 0x7b68ee, Web Purple: 0x800080, Web Gray: 0x808080, Blue Violet: 0x8a2be2, Dark Magenta: 0x8b008b, Medium Purple: 0x9370db, Dark Violet: 0x9400d3, Dark Orchid: 0x9932cc, Purple: 0xa020f0, Medium Orchid: 0xba55d3, Medium Violet Red: 0xc71585, Magenta: 0xff00ff\n",
      "Cluster with centroid #d66a3c: 0xd66a3c contains:\n",
      "Web Maroon: 0x800000, Dark Red: 0x8b0000, Saddle Brown: 0x8b4513, Sienna: 0xa0522d, Brown: 0xa52a2a, Maroon: 0xb03060, Firebrick: 0xb22222, Dark Goldenrod: 0xb8860b, Rosy Brown: 0xbc8f8f, Dark Khaki: 0xbdb76b, Indian Red: 0xcd5c5c, Peru: 0xcd853f, Chocolate: 0xd2691e, Goldenrod: 0xdaa520, Pale Violet Red: 0xdb7093, Crimson: 0xdc143c, Dark Salmon: 0xe9967a, Light Coral: 0xf08080, Sandy Brown: 0xf4a460, Salmon: 0xfa8072, Red: 0xff0000, Deep Pink: 0xff1493, Orange Red: 0xff4500, Tomato: 0xff6347, Coral: 0xff7f50, Dark Orange: 0xff8c00, Light Salmon: 0xffa07a, Orange: 0xffa500, Gold: 0xffd700, Yellow: 0xffff00\n",
      "Cluster with centroid #23c0c2: 0x23c0c2 contains:\n",
      "Teal: 0x008080, Dark Cyan: 0x008b8b, Deep Sky Blue: 0x00bfff, Dark Turquoise: 0x00ced1, Medium Spring Green: 0x00fa9a, Spring Green: 0x00ff7f, Cyan: 0x00ffff, Dodger Blue: 0x1e90ff, Light Sea Green: 0x20b2aa, Turquoise: 0x40e0d0, Steel Blue: 0x4682b4, Medium Turquoise: 0x48d1cc, Cadet Blue: 0x5f9ea0, Cornflower Blue: 0x6495ed, Medium Aquamarine: 0x66cdaa\n",
      "\n"
     ]
    }
   ],
   "source": [
    "colors = get_data('X11colors.csv')\n",
    "result = kmeans(colors, k=5, verbose=True)"
   ]
  },
  {
   "cell_type": "markdown",
   "id": "c5efe22a-595b-48df-8ed0-bc4ab1d36939",
   "metadata": {},
   "source": [
    "# Question 6."
   ]
  },
  {
   "cell_type": "code",
   "execution_count": 27,
   "id": "e3d056c8-a208-4ff3-bd4f-ea28dfeecfde",
   "metadata": {},
   "outputs": [],
   "source": [
    "def kmeans_to_html(input_data_file, output_html_file, k, verbose=False):\n",
    "    \"\"\"\n",
    "    Process data file of colors via k-means clustering into an html file\n",
    "    with a table of the various color clusters.\n",
    "    :param input_data_file:   colors csv file with columns 'Hex' and 'Name'\n",
    "    :param output_html_file:  output html file of the resulting clusters\n",
    "    :param k:                 number of clusters to make\n",
    "    \"\"\"\n",
    "    colors = get_data(input_data_file)\n",
    "    result = kmeans(colors, k, verbose=verbose)\n",
    "    tables = [cluster.to_html() for cluster in result]\n",
    "    html_side_by_side_table(output_html_file, tables)\n",
    "\n",
    "\n",
    "def html_side_by_side_table(html_filename, contents):\n",
    "    \"\"\"\n",
    "    Make an html table of one row whose cells contain given contents.\n",
    "    :param html_filename:  output filename\n",
    "    :param contents:       html fragments to put into each cell\n",
    "    \"\"\"\n",
    "    html = ['<table><tbody><tr>']\n",
    "    for item in contents:\n",
    "        html.append('<td>{}</td>'.format(item))\n",
    "    html.append('</tr></tbody></table>')\n",
    "    file_contents = '\\n'.join(html)\n",
    "    with open(html_filename, 'w') as f:\n",
    "        f.write(file_contents)\n",
    "\n",
    "\n",
    "if __name__ == '__main__':\n",
    "    kmeans_to_html('X11colors.csv', 'tw8_kmeans.html', k=6, verbose=False)"
   ]
  }
 ],
 "metadata": {
  "kernelspec": {
   "display_name": "Python 3 (ipykernel)",
   "language": "python",
   "name": "python3"
  },
  "language_info": {
   "codemirror_mode": {
    "name": "ipython",
    "version": 3
   },
   "file_extension": ".py",
   "mimetype": "text/x-python",
   "name": "python",
   "nbconvert_exporter": "python",
   "pygments_lexer": "ipython3",
   "version": "3.10.9"
  }
 },
 "nbformat": 4,
 "nbformat_minor": 5
}
