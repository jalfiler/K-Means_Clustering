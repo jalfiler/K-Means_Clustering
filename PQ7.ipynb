{
 "cells": [
  {
   "cell_type": "markdown",
   "id": "683b2357-7480-4909-81f5-72a58cd82afd",
   "metadata": {},
   "source": [
    "# PQ7"
   ]
  },
  {
   "cell_type": "markdown",
   "id": "e097b99c-4e27-465c-91c1-eb45f8e60d1e",
   "metadata": {},
   "source": [
    "Question 1:"
   ]
  },
  {
   "cell_type": "code",
   "execution_count": 1,
   "id": "d7b9f3a8-e6fc-4644-bc5d-ec47c59ef280",
   "metadata": {},
   "outputs": [],
   "source": [
    "def rgb_distance(color1, color2):\n",
    "    \"\"\"\n",
    "    Calculate the distance between two colors in the RGB color space.\n",
    "    :param color1: RGB color value 1\n",
    "    :param color2: RGB color value 2\n",
    "    :return: distance between color1 and color2\n",
    "    \"\"\"\n",
    "    red1 = color1 >> 16 & 0xff\n",
    "    green1 = color1 >> 8 & 0xff\n",
    "    blue1 = color1 & 0xff\n",
    "\n",
    "    red2 = color2 >> 16 & 0xff\n",
    "    green2 = color2 >> 8 & 0xff\n",
    "    blue2 = color2 & 0xff\n",
    "\n",
    "    distance = ((red1 - red2) ** 2 + (green1 - green2) ** 2 + (blue1 - blue2) ** 2) ** 0.5\n",
    "    return distance"
   ]
  },
  {
   "cell_type": "markdown",
   "id": "deaaf206-5a46-4def-8887-397f2ee4314a",
   "metadata": {},
   "source": [
    "Question 2:"
   ]
  },
  {
   "cell_type": "code",
   "execution_count": 8,
   "id": "9e7a665f-a665-414e-be76-a7a6645ba56a",
   "metadata": {},
   "outputs": [],
   "source": [
    "def rgb_center(colors):\n",
    "    \"\"\"\n",
    "    Calculate the average color of a sequence of colors in the RGB color space.\n",
    "    :param colors: sequence of RGB color values\n",
    "    :return: average color\n",
    "    \"\"\"\n",
    "    total_red = 0\n",
    "    total_green = 0\n",
    "    total_blue = 0\n",
    "\n",
    "    for color in colors:\n",
    "        total_red += color >> 16 & 0xff\n",
    "        total_green += color >> 8 & 0xff\n",
    "        total_blue += color & 0xff\n",
    "\n",
    "    average_red = total_red // len(colors)\n",
    "    average_green = total_green // len(colors)\n",
    "    average_blue = total_blue // len(colors)\n",
    "\n",
    "    average_color = average_red << 16 | average_green << 8 | average_blue\n",
    "    return average_color"
   ]
  },
  {
   "cell_type": "markdown",
   "id": "645f4031-d882-484d-93b2-c9a4ea2bfba7",
   "metadata": {},
   "source": [
    "Test:"
   ]
  },
  {
   "cell_type": "code",
   "execution_count": 9,
   "id": "1a7f413d-d313-4bf6-a020-b8b2c13ee547",
   "metadata": {},
   "outputs": [
    {
     "name": "stdout",
     "output_type": "stream",
     "text": [
      "Distance between color1 and color2: 263.83\n",
      "Average color: 0x555555\n"
     ]
    }
   ],
   "source": [
    "# Test rgb_distance\n",
    "color1 = 0x8a3324\n",
    "color2 = 0x0000FF\n",
    "distance = rgb_distance(color1, color2)\n",
    "print(f\"Distance between color1 and color2: {distance:.2f}\")\n",
    "\n",
    "# Test rgb_center\n",
    "colors = [0xFF0000, 0x00FF00, 0x0000FF]\n",
    "average_color = rgb_center(colors)\n",
    "print(f\"Average color: {average_color:#06x}\")"
   ]
  }
 ],
 "metadata": {
  "kernelspec": {
   "display_name": "Python 3 (ipykernel)",
   "language": "python",
   "name": "python3"
  },
  "language_info": {
   "codemirror_mode": {
    "name": "ipython",
    "version": 3
   },
   "file_extension": ".py",
   "mimetype": "text/x-python",
   "name": "python",
   "nbconvert_exporter": "python",
   "pygments_lexer": "ipython3",
   "version": "3.10.9"
  }
 },
 "nbformat": 4,
 "nbformat_minor": 5
}
